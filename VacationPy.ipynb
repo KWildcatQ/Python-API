{
 "cells": [
  {
   "cell_type": "markdown",
   "metadata": {},
   "source": [
    "# VacationPy\n",
    "----\n",
    "\n",
    "#### Note\n",
    "* Keep an eye on your API usage. Use https://developers.google.com/maps/reporting/gmp-reporting as reference for how to monitor your usage and billing.\n",
    "\n",
    "* Instructions have been included for each segment. You do not have to follow them exactly, but they are included to help you think through the steps."
   ]
  },
  {
   "cell_type": "code",
   "execution_count": 220,
   "metadata": {},
   "outputs": [],
   "source": [
    "# Dependencies and Setup\n",
    "import os\n",
    "import matplotlib.pyplot as plt\n",
    "import pandas as pd\n",
    "import numpy as np\n",
    "import requests\n",
    "import gmaps\n",
    "import json\n",
    "\n",
    "# Import API key\n",
    "from api_keys import g_key"
   ]
  },
  {
   "cell_type": "markdown",
   "metadata": {},
   "source": [
    "### Store Part I results into DataFrame\n",
    "* Load the csv exported in Part I to a DataFrame"
   ]
  },
  {
   "cell_type": "code",
   "execution_count": 221,
   "metadata": {},
   "outputs": [],
   "source": [
    "# CitiesKQ CSV File (Path) and read the CSV File\n",
    "citieskq_path = \"/Users/kellenquinn/Desktop/Python-api-challenge/Resources/citieskq.csv\"\n",
    "citieskq_df = pd.read_csv(citieskq_path)\n"
   ]
  },
  {
   "cell_type": "code",
   "execution_count": 222,
   "metadata": {},
   "outputs": [
    {
     "output_type": "execute_result",
     "data": {
      "text/plain": [
       "     Unnamed: 0  city id         city country      lat       lon  \\\n",
       "0             0  2126123   Chokurdakh      RU  70.6333  147.9167   \n",
       "1             1  1006984  East London      ZA -33.0153   27.9116   \n",
       "2             2  1733782       Labuan      MY   5.2767  115.2417   \n",
       "3             3  3833367      Ushuaia      AR -54.8000  -68.3000   \n",
       "4             4  6620339     Karratha      AU -20.7377  116.8463   \n",
       "..          ...      ...          ...     ...      ...       ...   \n",
       "553         553  2400547        Gamba      GA  -2.6500   10.0000   \n",
       "554         554  2655785     Beverley      GB  53.8459   -0.4233   \n",
       "555         555  2082539      Merauke      ID  -8.4667  140.3333   \n",
       "556         556   172515   Abu Samrah      SY  35.3029   37.1841   \n",
       "557         557  2111495        Ōhara      JP  35.2500  140.3833   \n",
       "\n",
       "     cloudiness %  humidity %  max temp (F)  wind speed (mph)        date  \n",
       "0              21          86         11.73              1.14  1619235388  \n",
       "1              20          88         59.00              4.61  1619235388  \n",
       "2              40          83         82.40              2.30  1619235388  \n",
       "3              75          93         42.80             14.97  1619235103  \n",
       "4               0          18         90.36             16.15  1619235389  \n",
       "..            ...         ...           ...               ...         ...  \n",
       "553           100          92         75.70              3.60  1619235594  \n",
       "554            75          87         43.00              1.14  1619235594  \n",
       "555            46          75         84.13              5.70  1619235549  \n",
       "556            67          28         67.69              4.52  1619235596  \n",
       "557            75          48         72.00              8.05  1619235596  \n",
       "\n",
       "[558 rows x 11 columns]"
      ],
      "text/html": "<div>\n<style scoped>\n    .dataframe tbody tr th:only-of-type {\n        vertical-align: middle;\n    }\n\n    .dataframe tbody tr th {\n        vertical-align: top;\n    }\n\n    .dataframe thead th {\n        text-align: right;\n    }\n</style>\n<table border=\"1\" class=\"dataframe\">\n  <thead>\n    <tr style=\"text-align: right;\">\n      <th></th>\n      <th>Unnamed: 0</th>\n      <th>city id</th>\n      <th>city</th>\n      <th>country</th>\n      <th>lat</th>\n      <th>lon</th>\n      <th>cloudiness %</th>\n      <th>humidity %</th>\n      <th>max temp (F)</th>\n      <th>wind speed (mph)</th>\n      <th>date</th>\n    </tr>\n  </thead>\n  <tbody>\n    <tr>\n      <th>0</th>\n      <td>0</td>\n      <td>2126123</td>\n      <td>Chokurdakh</td>\n      <td>RU</td>\n      <td>70.6333</td>\n      <td>147.9167</td>\n      <td>21</td>\n      <td>86</td>\n      <td>11.73</td>\n      <td>1.14</td>\n      <td>1619235388</td>\n    </tr>\n    <tr>\n      <th>1</th>\n      <td>1</td>\n      <td>1006984</td>\n      <td>East London</td>\n      <td>ZA</td>\n      <td>-33.0153</td>\n      <td>27.9116</td>\n      <td>20</td>\n      <td>88</td>\n      <td>59.00</td>\n      <td>4.61</td>\n      <td>1619235388</td>\n    </tr>\n    <tr>\n      <th>2</th>\n      <td>2</td>\n      <td>1733782</td>\n      <td>Labuan</td>\n      <td>MY</td>\n      <td>5.2767</td>\n      <td>115.2417</td>\n      <td>40</td>\n      <td>83</td>\n      <td>82.40</td>\n      <td>2.30</td>\n      <td>1619235388</td>\n    </tr>\n    <tr>\n      <th>3</th>\n      <td>3</td>\n      <td>3833367</td>\n      <td>Ushuaia</td>\n      <td>AR</td>\n      <td>-54.8000</td>\n      <td>-68.3000</td>\n      <td>75</td>\n      <td>93</td>\n      <td>42.80</td>\n      <td>14.97</td>\n      <td>1619235103</td>\n    </tr>\n    <tr>\n      <th>4</th>\n      <td>4</td>\n      <td>6620339</td>\n      <td>Karratha</td>\n      <td>AU</td>\n      <td>-20.7377</td>\n      <td>116.8463</td>\n      <td>0</td>\n      <td>18</td>\n      <td>90.36</td>\n      <td>16.15</td>\n      <td>1619235389</td>\n    </tr>\n    <tr>\n      <th>...</th>\n      <td>...</td>\n      <td>...</td>\n      <td>...</td>\n      <td>...</td>\n      <td>...</td>\n      <td>...</td>\n      <td>...</td>\n      <td>...</td>\n      <td>...</td>\n      <td>...</td>\n      <td>...</td>\n    </tr>\n    <tr>\n      <th>553</th>\n      <td>553</td>\n      <td>2400547</td>\n      <td>Gamba</td>\n      <td>GA</td>\n      <td>-2.6500</td>\n      <td>10.0000</td>\n      <td>100</td>\n      <td>92</td>\n      <td>75.70</td>\n      <td>3.60</td>\n      <td>1619235594</td>\n    </tr>\n    <tr>\n      <th>554</th>\n      <td>554</td>\n      <td>2655785</td>\n      <td>Beverley</td>\n      <td>GB</td>\n      <td>53.8459</td>\n      <td>-0.4233</td>\n      <td>75</td>\n      <td>87</td>\n      <td>43.00</td>\n      <td>1.14</td>\n      <td>1619235594</td>\n    </tr>\n    <tr>\n      <th>555</th>\n      <td>555</td>\n      <td>2082539</td>\n      <td>Merauke</td>\n      <td>ID</td>\n      <td>-8.4667</td>\n      <td>140.3333</td>\n      <td>46</td>\n      <td>75</td>\n      <td>84.13</td>\n      <td>5.70</td>\n      <td>1619235549</td>\n    </tr>\n    <tr>\n      <th>556</th>\n      <td>556</td>\n      <td>172515</td>\n      <td>Abu Samrah</td>\n      <td>SY</td>\n      <td>35.3029</td>\n      <td>37.1841</td>\n      <td>67</td>\n      <td>28</td>\n      <td>67.69</td>\n      <td>4.52</td>\n      <td>1619235596</td>\n    </tr>\n    <tr>\n      <th>557</th>\n      <td>557</td>\n      <td>2111495</td>\n      <td>Ōhara</td>\n      <td>JP</td>\n      <td>35.2500</td>\n      <td>140.3833</td>\n      <td>75</td>\n      <td>48</td>\n      <td>72.00</td>\n      <td>8.05</td>\n      <td>1619235596</td>\n    </tr>\n  </tbody>\n</table>\n<p>558 rows × 11 columns</p>\n</div>"
     },
     "metadata": {},
     "execution_count": 222
    }
   ],
   "source": [
    "#Display CitiesKQ \n",
    "citieskq_df"
   ]
  },
  {
   "cell_type": "code",
   "execution_count": 223,
   "metadata": {},
   "outputs": [
    {
     "output_type": "execute_result",
     "data": {
      "text/plain": [
       "     city id         city country      lat       lon  cloudiness %  \\\n",
       "0    2126123   Chokurdakh      RU  70.6333  147.9167            21   \n",
       "1    1006984  East London      ZA -33.0153   27.9116            20   \n",
       "2    1733782       Labuan      MY   5.2767  115.2417            40   \n",
       "3    3833367      Ushuaia      AR -54.8000  -68.3000            75   \n",
       "4    6620339     Karratha      AU -20.7377  116.8463             0   \n",
       "..       ...          ...     ...      ...       ...           ...   \n",
       "553  2400547        Gamba      GA  -2.6500   10.0000           100   \n",
       "554  2655785     Beverley      GB  53.8459   -0.4233            75   \n",
       "555  2082539      Merauke      ID  -8.4667  140.3333            46   \n",
       "556   172515   Abu Samrah      SY  35.3029   37.1841            67   \n",
       "557  2111495        Ōhara      JP  35.2500  140.3833            75   \n",
       "\n",
       "     humidity %  max temp (F)  wind speed (mph)        date  \n",
       "0            86         11.73              1.14  1619235388  \n",
       "1            88         59.00              4.61  1619235388  \n",
       "2            83         82.40              2.30  1619235388  \n",
       "3            93         42.80             14.97  1619235103  \n",
       "4            18         90.36             16.15  1619235389  \n",
       "..          ...           ...               ...         ...  \n",
       "553          92         75.70              3.60  1619235594  \n",
       "554          87         43.00              1.14  1619235594  \n",
       "555          75         84.13              5.70  1619235549  \n",
       "556          28         67.69              4.52  1619235596  \n",
       "557          48         72.00              8.05  1619235596  \n",
       "\n",
       "[558 rows x 10 columns]"
      ],
      "text/html": "<div>\n<style scoped>\n    .dataframe tbody tr th:only-of-type {\n        vertical-align: middle;\n    }\n\n    .dataframe tbody tr th {\n        vertical-align: top;\n    }\n\n    .dataframe thead th {\n        text-align: right;\n    }\n</style>\n<table border=\"1\" class=\"dataframe\">\n  <thead>\n    <tr style=\"text-align: right;\">\n      <th></th>\n      <th>city id</th>\n      <th>city</th>\n      <th>country</th>\n      <th>lat</th>\n      <th>lon</th>\n      <th>cloudiness %</th>\n      <th>humidity %</th>\n      <th>max temp (F)</th>\n      <th>wind speed (mph)</th>\n      <th>date</th>\n    </tr>\n  </thead>\n  <tbody>\n    <tr>\n      <th>0</th>\n      <td>2126123</td>\n      <td>Chokurdakh</td>\n      <td>RU</td>\n      <td>70.6333</td>\n      <td>147.9167</td>\n      <td>21</td>\n      <td>86</td>\n      <td>11.73</td>\n      <td>1.14</td>\n      <td>1619235388</td>\n    </tr>\n    <tr>\n      <th>1</th>\n      <td>1006984</td>\n      <td>East London</td>\n      <td>ZA</td>\n      <td>-33.0153</td>\n      <td>27.9116</td>\n      <td>20</td>\n      <td>88</td>\n      <td>59.00</td>\n      <td>4.61</td>\n      <td>1619235388</td>\n    </tr>\n    <tr>\n      <th>2</th>\n      <td>1733782</td>\n      <td>Labuan</td>\n      <td>MY</td>\n      <td>5.2767</td>\n      <td>115.2417</td>\n      <td>40</td>\n      <td>83</td>\n      <td>82.40</td>\n      <td>2.30</td>\n      <td>1619235388</td>\n    </tr>\n    <tr>\n      <th>3</th>\n      <td>3833367</td>\n      <td>Ushuaia</td>\n      <td>AR</td>\n      <td>-54.8000</td>\n      <td>-68.3000</td>\n      <td>75</td>\n      <td>93</td>\n      <td>42.80</td>\n      <td>14.97</td>\n      <td>1619235103</td>\n    </tr>\n    <tr>\n      <th>4</th>\n      <td>6620339</td>\n      <td>Karratha</td>\n      <td>AU</td>\n      <td>-20.7377</td>\n      <td>116.8463</td>\n      <td>0</td>\n      <td>18</td>\n      <td>90.36</td>\n      <td>16.15</td>\n      <td>1619235389</td>\n    </tr>\n    <tr>\n      <th>...</th>\n      <td>...</td>\n      <td>...</td>\n      <td>...</td>\n      <td>...</td>\n      <td>...</td>\n      <td>...</td>\n      <td>...</td>\n      <td>...</td>\n      <td>...</td>\n      <td>...</td>\n    </tr>\n    <tr>\n      <th>553</th>\n      <td>2400547</td>\n      <td>Gamba</td>\n      <td>GA</td>\n      <td>-2.6500</td>\n      <td>10.0000</td>\n      <td>100</td>\n      <td>92</td>\n      <td>75.70</td>\n      <td>3.60</td>\n      <td>1619235594</td>\n    </tr>\n    <tr>\n      <th>554</th>\n      <td>2655785</td>\n      <td>Beverley</td>\n      <td>GB</td>\n      <td>53.8459</td>\n      <td>-0.4233</td>\n      <td>75</td>\n      <td>87</td>\n      <td>43.00</td>\n      <td>1.14</td>\n      <td>1619235594</td>\n    </tr>\n    <tr>\n      <th>555</th>\n      <td>2082539</td>\n      <td>Merauke</td>\n      <td>ID</td>\n      <td>-8.4667</td>\n      <td>140.3333</td>\n      <td>46</td>\n      <td>75</td>\n      <td>84.13</td>\n      <td>5.70</td>\n      <td>1619235549</td>\n    </tr>\n    <tr>\n      <th>556</th>\n      <td>172515</td>\n      <td>Abu Samrah</td>\n      <td>SY</td>\n      <td>35.3029</td>\n      <td>37.1841</td>\n      <td>67</td>\n      <td>28</td>\n      <td>67.69</td>\n      <td>4.52</td>\n      <td>1619235596</td>\n    </tr>\n    <tr>\n      <th>557</th>\n      <td>2111495</td>\n      <td>Ōhara</td>\n      <td>JP</td>\n      <td>35.2500</td>\n      <td>140.3833</td>\n      <td>75</td>\n      <td>48</td>\n      <td>72.00</td>\n      <td>8.05</td>\n      <td>1619235596</td>\n    </tr>\n  </tbody>\n</table>\n<p>558 rows × 10 columns</p>\n</div>"
     },
     "metadata": {},
     "execution_count": 223
    }
   ],
   "source": [
    "#Drop Column Unnamed: 0\n",
    "citieskq_df = citieskq_df.drop(columns=['Unnamed: 0'])\n",
    "citieskq_df"
   ]
  },
  {
   "cell_type": "code",
   "execution_count": 223,
   "metadata": {},
   "outputs": [],
   "source": [
    " "
   ]
  },
  {
   "cell_type": "markdown",
   "metadata": {},
   "source": [
    "### Humidity Heatmap\n",
    "* Configure gmaps.\n",
    "* Use the Lat and Lng as locations and Humidity as the weight.\n",
    "* Add Heatmap layer to map."
   ]
  },
  {
   "cell_type": "code",
   "execution_count": 224,
   "metadata": {},
   "outputs": [],
   "source": [
    "# Configure gmaps with API key\n",
    "gmaps.configure(api_key=g_key)"
   ]
  },
  {
   "cell_type": "code",
   "execution_count": 225,
   "metadata": {},
   "outputs": [],
   "source": [
    "# Store 'Lat' and 'Lng' into  locations \n",
    "locations = citieskq_df[[\"lat\", \"lon\"]].astype(float)"
   ]
  },
  {
   "cell_type": "code",
   "execution_count": 226,
   "metadata": {},
   "outputs": [],
   "source": [
    "# Convert Humdity % to float\n",
    "humidity_percent = citieskq_df[\"humidity %\"].astype(float)"
   ]
  },
  {
   "cell_type": "code",
   "execution_count": 227,
   "metadata": {},
   "outputs": [
    {
     "output_type": "display_data",
     "data": {
      "text/plain": "Figure(layout=FigureLayout(height='420px'))",
      "application/vnd.jupyter.widget-view+json": {
       "version_major": 2,
       "version_minor": 0,
       "model_id": "468e7d1ee6c94951aa6ddd8d32a80e35"
      }
     },
     "metadata": {}
    }
   ],
   "source": [
    " # Create a Humidity Percent Layer\n",
    "fig = gmaps.figure()\n",
    "\n",
    "heat_layer = gmaps.heatmap_layer(locations, weights=humidity_percent, \n",
    "                                 dissipating=False, max_intensity=100,\n",
    "                                 point_radius = 1)\n",
    "\n",
    "fig.add_layer(heat_layer)\n",
    "\n",
    "fig"
   ]
  },
  {
   "cell_type": "code",
   "execution_count": 227,
   "metadata": {},
   "outputs": [],
   "source": [
    " "
   ]
  },
  {
   "cell_type": "markdown",
   "metadata": {},
   "source": [
    "### Create new DataFrame fitting weather criteria\n",
    "* Narrow down the cities to fit weather conditions.\n",
    "* Drop any rows will null values."
   ]
  },
  {
   "cell_type": "code",
   "execution_count": 228,
   "metadata": {},
   "outputs": [
    {
     "output_type": "execute_result",
     "data": {
      "text/plain": [
       "     city id          city country      lat       lon  cloudiness %  \\\n",
       "10   2070998     Geraldton      AU -28.7667  114.6000             3   \n",
       "19   2175819       Biloela      AU -24.4167  150.5000            20   \n",
       "53   1835848         Seoul      KR  37.5683  126.9778             0   \n",
       "55    103630        Najrān      SA  17.4924   44.1277             0   \n",
       "57   1174167       Khanpur      PK  28.6453   70.6567             0   \n",
       "70   2450173     Taoudenni      ML  22.6783   -3.9836             0   \n",
       "107  5546220  Saint George      US  37.1041 -113.5841             1   \n",
       "118  2381334          Atar      MR  20.5169  -13.0499             0   \n",
       "152  5861897     Fairbanks      US  64.8378 -147.7164             1   \n",
       "159  1280037        Shache      CN  38.4167   77.2406            10   \n",
       "163  2074865     Carnarvon      AU -24.8667  113.6333             2   \n",
       "283  5526337       Midland      US  31.9974 -102.0779             1   \n",
       "298  2455290         Kidal      ML  18.4411    1.4078             0   \n",
       "299   174448     Abu Kamal      SY  34.4506   40.9171             2   \n",
       "313   107304      Buraidah      SA  26.3260   43.9750            20   \n",
       "353  1253628         Ginda      IN  30.6945   78.4932             0   \n",
       "377  2381972         Adrar      MR  20.5022  -10.0711             1   \n",
       "387  1131461       Oruzgan      AF  32.8333   66.0000             2   \n",
       "446  2427336      Moussoro      TD  13.6408   16.4901            17   \n",
       "465    86049          Jalu      LY  29.0331   21.5482            46   \n",
       "481  5859699       College      US  64.8569 -147.8028            20   \n",
       "484  2036892        Hohhot      CN  40.8106  111.6522             0   \n",
       "\n",
       "     humidity %  max temp (F)  wind speed (mph)        date  \n",
       "10           21         86.00              5.75  1619235391  \n",
       "19           24         82.18              4.25  1619235395  \n",
       "53           26         71.60              8.05  1619235165  \n",
       "55           26         68.00              4.61  1619235408  \n",
       "57           23         85.73              7.00  1619235409  \n",
       "70            8         83.57              8.41  1619235413  \n",
       "107          12         71.60              6.91  1619235428  \n",
       "118          17         75.07              6.51  1619235413  \n",
       "152          24         60.80              6.91  1619235313  \n",
       "159          10         63.10              2.51  1619235446  \n",
       "163          26         86.00              4.61  1619235448  \n",
       "283          10         68.00             11.50  1619235409  \n",
       "298           9         82.18              8.77  1619235497  \n",
       "299          17         73.94              1.28  1619235497  \n",
       "313          24         71.60              5.75  1619235502  \n",
       "353          25         66.69              1.10  1619235517  \n",
       "377          17         73.29              9.04  1619235526  \n",
       "387          11         68.79              3.31  1619235530  \n",
       "446          13         81.45              6.35  1619235553  \n",
       "465          19         71.64             14.85  1619235561  \n",
       "481          24         60.80              8.05  1619235536  \n",
       "484          24         69.80             11.18  1619235358  "
      ],
      "text/html": "<div>\n<style scoped>\n    .dataframe tbody tr th:only-of-type {\n        vertical-align: middle;\n    }\n\n    .dataframe tbody tr th {\n        vertical-align: top;\n    }\n\n    .dataframe thead th {\n        text-align: right;\n    }\n</style>\n<table border=\"1\" class=\"dataframe\">\n  <thead>\n    <tr style=\"text-align: right;\">\n      <th></th>\n      <th>city id</th>\n      <th>city</th>\n      <th>country</th>\n      <th>lat</th>\n      <th>lon</th>\n      <th>cloudiness %</th>\n      <th>humidity %</th>\n      <th>max temp (F)</th>\n      <th>wind speed (mph)</th>\n      <th>date</th>\n    </tr>\n  </thead>\n  <tbody>\n    <tr>\n      <th>10</th>\n      <td>2070998</td>\n      <td>Geraldton</td>\n      <td>AU</td>\n      <td>-28.7667</td>\n      <td>114.6000</td>\n      <td>3</td>\n      <td>21</td>\n      <td>86.00</td>\n      <td>5.75</td>\n      <td>1619235391</td>\n    </tr>\n    <tr>\n      <th>19</th>\n      <td>2175819</td>\n      <td>Biloela</td>\n      <td>AU</td>\n      <td>-24.4167</td>\n      <td>150.5000</td>\n      <td>20</td>\n      <td>24</td>\n      <td>82.18</td>\n      <td>4.25</td>\n      <td>1619235395</td>\n    </tr>\n    <tr>\n      <th>53</th>\n      <td>1835848</td>\n      <td>Seoul</td>\n      <td>KR</td>\n      <td>37.5683</td>\n      <td>126.9778</td>\n      <td>0</td>\n      <td>26</td>\n      <td>71.60</td>\n      <td>8.05</td>\n      <td>1619235165</td>\n    </tr>\n    <tr>\n      <th>55</th>\n      <td>103630</td>\n      <td>Najrān</td>\n      <td>SA</td>\n      <td>17.4924</td>\n      <td>44.1277</td>\n      <td>0</td>\n      <td>26</td>\n      <td>68.00</td>\n      <td>4.61</td>\n      <td>1619235408</td>\n    </tr>\n    <tr>\n      <th>57</th>\n      <td>1174167</td>\n      <td>Khanpur</td>\n      <td>PK</td>\n      <td>28.6453</td>\n      <td>70.6567</td>\n      <td>0</td>\n      <td>23</td>\n      <td>85.73</td>\n      <td>7.00</td>\n      <td>1619235409</td>\n    </tr>\n    <tr>\n      <th>70</th>\n      <td>2450173</td>\n      <td>Taoudenni</td>\n      <td>ML</td>\n      <td>22.6783</td>\n      <td>-3.9836</td>\n      <td>0</td>\n      <td>8</td>\n      <td>83.57</td>\n      <td>8.41</td>\n      <td>1619235413</td>\n    </tr>\n    <tr>\n      <th>107</th>\n      <td>5546220</td>\n      <td>Saint George</td>\n      <td>US</td>\n      <td>37.1041</td>\n      <td>-113.5841</td>\n      <td>1</td>\n      <td>12</td>\n      <td>71.60</td>\n      <td>6.91</td>\n      <td>1619235428</td>\n    </tr>\n    <tr>\n      <th>118</th>\n      <td>2381334</td>\n      <td>Atar</td>\n      <td>MR</td>\n      <td>20.5169</td>\n      <td>-13.0499</td>\n      <td>0</td>\n      <td>17</td>\n      <td>75.07</td>\n      <td>6.51</td>\n      <td>1619235413</td>\n    </tr>\n    <tr>\n      <th>152</th>\n      <td>5861897</td>\n      <td>Fairbanks</td>\n      <td>US</td>\n      <td>64.8378</td>\n      <td>-147.7164</td>\n      <td>1</td>\n      <td>24</td>\n      <td>60.80</td>\n      <td>6.91</td>\n      <td>1619235313</td>\n    </tr>\n    <tr>\n      <th>159</th>\n      <td>1280037</td>\n      <td>Shache</td>\n      <td>CN</td>\n      <td>38.4167</td>\n      <td>77.2406</td>\n      <td>10</td>\n      <td>10</td>\n      <td>63.10</td>\n      <td>2.51</td>\n      <td>1619235446</td>\n    </tr>\n    <tr>\n      <th>163</th>\n      <td>2074865</td>\n      <td>Carnarvon</td>\n      <td>AU</td>\n      <td>-24.8667</td>\n      <td>113.6333</td>\n      <td>2</td>\n      <td>26</td>\n      <td>86.00</td>\n      <td>4.61</td>\n      <td>1619235448</td>\n    </tr>\n    <tr>\n      <th>283</th>\n      <td>5526337</td>\n      <td>Midland</td>\n      <td>US</td>\n      <td>31.9974</td>\n      <td>-102.0779</td>\n      <td>1</td>\n      <td>10</td>\n      <td>68.00</td>\n      <td>11.50</td>\n      <td>1619235409</td>\n    </tr>\n    <tr>\n      <th>298</th>\n      <td>2455290</td>\n      <td>Kidal</td>\n      <td>ML</td>\n      <td>18.4411</td>\n      <td>1.4078</td>\n      <td>0</td>\n      <td>9</td>\n      <td>82.18</td>\n      <td>8.77</td>\n      <td>1619235497</td>\n    </tr>\n    <tr>\n      <th>299</th>\n      <td>174448</td>\n      <td>Abu Kamal</td>\n      <td>SY</td>\n      <td>34.4506</td>\n      <td>40.9171</td>\n      <td>2</td>\n      <td>17</td>\n      <td>73.94</td>\n      <td>1.28</td>\n      <td>1619235497</td>\n    </tr>\n    <tr>\n      <th>313</th>\n      <td>107304</td>\n      <td>Buraidah</td>\n      <td>SA</td>\n      <td>26.3260</td>\n      <td>43.9750</td>\n      <td>20</td>\n      <td>24</td>\n      <td>71.60</td>\n      <td>5.75</td>\n      <td>1619235502</td>\n    </tr>\n    <tr>\n      <th>353</th>\n      <td>1253628</td>\n      <td>Ginda</td>\n      <td>IN</td>\n      <td>30.6945</td>\n      <td>78.4932</td>\n      <td>0</td>\n      <td>25</td>\n      <td>66.69</td>\n      <td>1.10</td>\n      <td>1619235517</td>\n    </tr>\n    <tr>\n      <th>377</th>\n      <td>2381972</td>\n      <td>Adrar</td>\n      <td>MR</td>\n      <td>20.5022</td>\n      <td>-10.0711</td>\n      <td>1</td>\n      <td>17</td>\n      <td>73.29</td>\n      <td>9.04</td>\n      <td>1619235526</td>\n    </tr>\n    <tr>\n      <th>387</th>\n      <td>1131461</td>\n      <td>Oruzgan</td>\n      <td>AF</td>\n      <td>32.8333</td>\n      <td>66.0000</td>\n      <td>2</td>\n      <td>11</td>\n      <td>68.79</td>\n      <td>3.31</td>\n      <td>1619235530</td>\n    </tr>\n    <tr>\n      <th>446</th>\n      <td>2427336</td>\n      <td>Moussoro</td>\n      <td>TD</td>\n      <td>13.6408</td>\n      <td>16.4901</td>\n      <td>17</td>\n      <td>13</td>\n      <td>81.45</td>\n      <td>6.35</td>\n      <td>1619235553</td>\n    </tr>\n    <tr>\n      <th>465</th>\n      <td>86049</td>\n      <td>Jalu</td>\n      <td>LY</td>\n      <td>29.0331</td>\n      <td>21.5482</td>\n      <td>46</td>\n      <td>19</td>\n      <td>71.64</td>\n      <td>14.85</td>\n      <td>1619235561</td>\n    </tr>\n    <tr>\n      <th>481</th>\n      <td>5859699</td>\n      <td>College</td>\n      <td>US</td>\n      <td>64.8569</td>\n      <td>-147.8028</td>\n      <td>20</td>\n      <td>24</td>\n      <td>60.80</td>\n      <td>8.05</td>\n      <td>1619235536</td>\n    </tr>\n    <tr>\n      <th>484</th>\n      <td>2036892</td>\n      <td>Hohhot</td>\n      <td>CN</td>\n      <td>40.8106</td>\n      <td>111.6522</td>\n      <td>0</td>\n      <td>24</td>\n      <td>69.80</td>\n      <td>11.18</td>\n      <td>1619235358</td>\n    </tr>\n  </tbody>\n</table>\n</div>"
     },
     "metadata": {},
     "execution_count": 228
    }
   ],
   "source": [
    "#Defining the Perfect City and Filtering Out Destinations\n",
    "perfectcities_df = citieskq_df.loc[(citieskq_df['cloudiness %'] <50) & (citieskq_df['max temp (F)'] >60) & (citieskq_df['max temp (F)'] <=90) & (citieskq_df['humidity %'] <30)].dropna()\n",
    "\n",
    "perfectcities_df"
   ]
  },
  {
   "cell_type": "markdown",
   "metadata": {},
   "source": [
    "### Hotel Map\n",
    "* Store into variable named `hotel_df`.\n",
    "* Add a \"Hotel Name\" column to the DataFrame.\n",
    "* Set parameters to search for hotels with 5000 meters.\n",
    "* Hit the Google Places API for each city's coordinates.\n",
    "* Store the first Hotel result into the DataFrame.\n",
    "* Plot markers on top of the heatmap."
   ]
  },
  {
   "cell_type": "code",
   "execution_count": 229,
   "metadata": {},
   "outputs": [
    {
     "output_type": "execute_result",
     "data": {
      "text/plain": [
       "             city country      lat       lon hotel name\n",
       "10      Geraldton      AU -28.7667  114.6000           \n",
       "19        Biloela      AU -24.4167  150.5000           \n",
       "53          Seoul      KR  37.5683  126.9778           \n",
       "55         Najrān      SA  17.4924   44.1277           \n",
       "57        Khanpur      PK  28.6453   70.6567           \n",
       "70      Taoudenni      ML  22.6783   -3.9836           \n",
       "107  Saint George      US  37.1041 -113.5841           \n",
       "118          Atar      MR  20.5169  -13.0499           \n",
       "152     Fairbanks      US  64.8378 -147.7164           \n",
       "159        Shache      CN  38.4167   77.2406           \n",
       "163     Carnarvon      AU -24.8667  113.6333           \n",
       "283       Midland      US  31.9974 -102.0779           \n",
       "298         Kidal      ML  18.4411    1.4078           \n",
       "299     Abu Kamal      SY  34.4506   40.9171           \n",
       "313      Buraidah      SA  26.3260   43.9750           \n",
       "353         Ginda      IN  30.6945   78.4932           \n",
       "377         Adrar      MR  20.5022  -10.0711           \n",
       "387       Oruzgan      AF  32.8333   66.0000           \n",
       "446      Moussoro      TD  13.6408   16.4901           \n",
       "465          Jalu      LY  29.0331   21.5482           \n",
       "481       College      US  64.8569 -147.8028           \n",
       "484        Hohhot      CN  40.8106  111.6522           "
      ],
      "text/html": "<div>\n<style scoped>\n    .dataframe tbody tr th:only-of-type {\n        vertical-align: middle;\n    }\n\n    .dataframe tbody tr th {\n        vertical-align: top;\n    }\n\n    .dataframe thead th {\n        text-align: right;\n    }\n</style>\n<table border=\"1\" class=\"dataframe\">\n  <thead>\n    <tr style=\"text-align: right;\">\n      <th></th>\n      <th>city</th>\n      <th>country</th>\n      <th>lat</th>\n      <th>lon</th>\n      <th>hotel name</th>\n    </tr>\n  </thead>\n  <tbody>\n    <tr>\n      <th>10</th>\n      <td>Geraldton</td>\n      <td>AU</td>\n      <td>-28.7667</td>\n      <td>114.6000</td>\n      <td></td>\n    </tr>\n    <tr>\n      <th>19</th>\n      <td>Biloela</td>\n      <td>AU</td>\n      <td>-24.4167</td>\n      <td>150.5000</td>\n      <td></td>\n    </tr>\n    <tr>\n      <th>53</th>\n      <td>Seoul</td>\n      <td>KR</td>\n      <td>37.5683</td>\n      <td>126.9778</td>\n      <td></td>\n    </tr>\n    <tr>\n      <th>55</th>\n      <td>Najrān</td>\n      <td>SA</td>\n      <td>17.4924</td>\n      <td>44.1277</td>\n      <td></td>\n    </tr>\n    <tr>\n      <th>57</th>\n      <td>Khanpur</td>\n      <td>PK</td>\n      <td>28.6453</td>\n      <td>70.6567</td>\n      <td></td>\n    </tr>\n    <tr>\n      <th>70</th>\n      <td>Taoudenni</td>\n      <td>ML</td>\n      <td>22.6783</td>\n      <td>-3.9836</td>\n      <td></td>\n    </tr>\n    <tr>\n      <th>107</th>\n      <td>Saint George</td>\n      <td>US</td>\n      <td>37.1041</td>\n      <td>-113.5841</td>\n      <td></td>\n    </tr>\n    <tr>\n      <th>118</th>\n      <td>Atar</td>\n      <td>MR</td>\n      <td>20.5169</td>\n      <td>-13.0499</td>\n      <td></td>\n    </tr>\n    <tr>\n      <th>152</th>\n      <td>Fairbanks</td>\n      <td>US</td>\n      <td>64.8378</td>\n      <td>-147.7164</td>\n      <td></td>\n    </tr>\n    <tr>\n      <th>159</th>\n      <td>Shache</td>\n      <td>CN</td>\n      <td>38.4167</td>\n      <td>77.2406</td>\n      <td></td>\n    </tr>\n    <tr>\n      <th>163</th>\n      <td>Carnarvon</td>\n      <td>AU</td>\n      <td>-24.8667</td>\n      <td>113.6333</td>\n      <td></td>\n    </tr>\n    <tr>\n      <th>283</th>\n      <td>Midland</td>\n      <td>US</td>\n      <td>31.9974</td>\n      <td>-102.0779</td>\n      <td></td>\n    </tr>\n    <tr>\n      <th>298</th>\n      <td>Kidal</td>\n      <td>ML</td>\n      <td>18.4411</td>\n      <td>1.4078</td>\n      <td></td>\n    </tr>\n    <tr>\n      <th>299</th>\n      <td>Abu Kamal</td>\n      <td>SY</td>\n      <td>34.4506</td>\n      <td>40.9171</td>\n      <td></td>\n    </tr>\n    <tr>\n      <th>313</th>\n      <td>Buraidah</td>\n      <td>SA</td>\n      <td>26.3260</td>\n      <td>43.9750</td>\n      <td></td>\n    </tr>\n    <tr>\n      <th>353</th>\n      <td>Ginda</td>\n      <td>IN</td>\n      <td>30.6945</td>\n      <td>78.4932</td>\n      <td></td>\n    </tr>\n    <tr>\n      <th>377</th>\n      <td>Adrar</td>\n      <td>MR</td>\n      <td>20.5022</td>\n      <td>-10.0711</td>\n      <td></td>\n    </tr>\n    <tr>\n      <th>387</th>\n      <td>Oruzgan</td>\n      <td>AF</td>\n      <td>32.8333</td>\n      <td>66.0000</td>\n      <td></td>\n    </tr>\n    <tr>\n      <th>446</th>\n      <td>Moussoro</td>\n      <td>TD</td>\n      <td>13.6408</td>\n      <td>16.4901</td>\n      <td></td>\n    </tr>\n    <tr>\n      <th>465</th>\n      <td>Jalu</td>\n      <td>LY</td>\n      <td>29.0331</td>\n      <td>21.5482</td>\n      <td></td>\n    </tr>\n    <tr>\n      <th>481</th>\n      <td>College</td>\n      <td>US</td>\n      <td>64.8569</td>\n      <td>-147.8028</td>\n      <td></td>\n    </tr>\n    <tr>\n      <th>484</th>\n      <td>Hohhot</td>\n      <td>CN</td>\n      <td>40.8106</td>\n      <td>111.6522</td>\n      <td></td>\n    </tr>\n  </tbody>\n</table>\n</div>"
     },
     "metadata": {},
     "execution_count": 229
    }
   ],
   "source": [
    "#Create Hotel DF and add Hotel Name Column\n",
    "hotel_df = pd.DataFrame(perfectcities_df, columns=['city', 'country', 'lat', 'lon'])\n",
    "hotel_df[\"hotel name\"] = \"\" \n",
    "hotel_df"
   ]
  },
  {
   "cell_type": "code",
   "execution_count": 232,
   "metadata": {
    "tags": []
   },
   "outputs": [
    {
     "output_type": "stream",
     "name": "stdout",
     "text": [
      "22.6783,-3.9836\n",
      "Hotel not found\n",
      "18.4411,1.4078\n",
      "Hotel not found\n",
      "20.5022,-10.0711\n",
      "Hotel not found\n",
      "32.8333,66.0\n",
      "Hotel not found\n"
     ]
    }
   ],
   "source": [
    "#Loop through the list of cities and perform data request\n",
    "hotel_name_list=[]\n",
    "lat = hotel_df['lat']\n",
    "lon = hotel_df['lon']\n",
    "\n",
    "params = {\n",
    "    \"radius\": 5000,\n",
    "    \"types\": \"lodging\",\n",
    "    \"key\": g_key\n",
    "}\n",
    "\n",
    "for index, row in hotel_df.iterrows():\n",
    "    query_url=f'https://maps.googleapis.com/maps/api/place/nearbysearch/json'\n",
    "\n",
    "    # update address key value\n",
    "    lat = row[\"lat\"]\n",
    "    lon = row[\"lon\"]\n",
    "    params[\"location\"] = f\"{lat},{lon}\"\n",
    "\n",
    "    #make request\n",
    "    response=requests.get(query_url, params=params).json()\n",
    "  \n",
    "    try:\n",
    "       hotel_df.loc[index, \"hotel name\"] = response[\"results\"][0][\"name\"]\n",
    "    except:\n",
    "        print(params[\"location\"])\n",
    "        print(\"Hotel not found\")           "
   ]
  },
  {
   "cell_type": "code",
   "execution_count": 233,
   "metadata": {},
   "outputs": [],
   "source": [
    "# NOTE: Do not change any of the code in this cell\n",
    "\n",
    "# Using the template add the hotel marks to the heatmap\n",
    "info_box_template = \"\"\"\n",
    "<dl>\n",
    "<dt>Name</dt><dd>{hotel name}</dd>\n",
    "<dt>City</dt><dd>{city}</dd>\n",
    "<dt>Country</dt><dd>{country}</dd>\n",
    "</dl>\n",
    "\"\"\"\n",
    "# Store the DataFrame Row\n",
    "# NOTE: be sure to update with your DataFrame name\n",
    "hotel_info = [info_box_template.format(**row) for index, row in hotel_df.iterrows()]\n",
    "locations = hotel_df[[\"lat\", \"lon\"]]"
   ]
  },
  {
   "cell_type": "code",
   "execution_count": 235,
   "metadata": {},
   "outputs": [
    {
     "output_type": "display_data",
     "data": {
      "text/plain": "Figure(layout=FigureLayout(height='420px'))",
      "application/vnd.jupyter.widget-view+json": {
       "version_major": 2,
       "version_minor": 0,
       "model_id": "468e7d1ee6c94951aa6ddd8d32a80e35"
      }
     },
     "metadata": {}
    }
   ],
   "source": [
    "# Add marker layer ontop of heat map\n",
    "hotel_layer = gmaps.marker_layer(locations)\n",
    "fig.add_layer(hotel_layer)\n",
    "\n",
    "# Display figure\n",
    "fig"
   ]
  },
  {
   "cell_type": "code",
   "execution_count": null,
   "metadata": {},
   "outputs": [],
   "source": []
  }
 ],
 "metadata": {
  "kernelspec": {
   "name": "python385jvsc74a57bd0403a5d6a394a01ef26b2cc6b156171da77f8332ee7637ee8dac9f64c5d1c19b3",
   "display_name": "Python 3.8.5 64-bit ('base': conda)"
  },
  "language_info": {
   "codemirror_mode": {
    "name": "ipython",
    "version": 3
   },
   "file_extension": ".py",
   "mimetype": "text/x-python",
   "name": "python",
   "nbconvert_exporter": "python",
   "pygments_lexer": "ipython3",
   "version": "3.8.5"
  },
  "latex_envs": {
   "LaTeX_envs_menu_present": true,
   "autoclose": false,
   "autocomplete": true,
   "bibliofile": "biblio.bib",
   "cite_by": "apalike",
   "current_citInitial": 1,
   "eqLabelWithNumbers": true,
   "eqNumInitial": 1,
   "hotkeys": {
    "equation": "Ctrl-E",
    "itemize": "Ctrl-I"
   },
   "labels_anchors": false,
   "latex_user_defs": false,
   "report_style_numbering": false,
   "user_envs_cfg": false
  }
 },
 "nbformat": 4,
 "nbformat_minor": 4
}